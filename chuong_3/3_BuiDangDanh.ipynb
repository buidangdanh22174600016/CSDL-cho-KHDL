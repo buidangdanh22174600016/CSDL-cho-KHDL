{
 "cells": [
  {
   "cell_type": "code",
   "execution_count": 9,
   "id": "6adec887",
   "metadata": {},
   "outputs": [],
   "source": [
    "import sqlite3\n",
    "import scipy.stats as stats\n",
    "import pandas as pd\n",
    "import numpy as np"
   ]
  },
  {
   "cell_type": "markdown",
   "id": "8b40d79a",
   "metadata": {},
   "source": [
    "Câu 1: Viết câu lệnh SQL tính tương quan giữa A và B"
   ]
  },
  {
   "cell_type": "code",
   "execution_count": 4,
   "id": "a8c8b15d",
   "metadata": {},
   "outputs": [
    {
     "name": "stdout",
     "output_type": "stream",
     "text": [
      "Hệ số tương quan r = 0.6911\n"
     ]
    }
   ],
   "source": [
    "\n",
    "# Tạo dataframe mẫu\n",
    "data = {\n",
    "    'A': [8, 7.5, 6, 7],\n",
    "    'B': [9, 8.5, 7, 6]\n",
    "}\n",
    "df = pd.DataFrame(data)\n",
    "\n",
    "# Lưu vào SQLite\n",
    "conn = sqlite3.connect(':memory:')\n",
    "df.to_sql('Scores', conn, index=False, if_exists='replace')\n",
    "\n",
    "# Viết truy vấn SQL để lấy các phần cần thiết\n",
    "query = \"\"\"\n",
    "SELECT \n",
    "    COUNT(*) as n,\n",
    "    SUM(A*B) as sum_ab,\n",
    "    SUM(A) as sum_a,\n",
    "    SUM(B) as sum_b,\n",
    "    SUM(A*A) as sum_aa,\n",
    "    SUM(B*B) as sum_bb\n",
    "FROM Scores\n",
    "\"\"\"\n",
    "result = pd.read_sql(query, conn)\n",
    "\n",
    "# Tính Pearson theo công thức thủ công\n",
    "n = result['n'][0]\n",
    "sum_ab = result['sum_ab'][0]\n",
    "sum_a = result['sum_a'][0]\n",
    "sum_b = result['sum_b'][0]\n",
    "sum_aa = result['sum_aa'][0]\n",
    "sum_bb = result['sum_bb'][0]\n",
    "\n",
    "numerator = (n * sum_ab) - (sum_a * sum_b)\n",
    "denominator = ((n * sum_aa - sum_a**2) * (n * sum_bb - sum_b**2))**0.5\n",
    "r = numerator / denominator\n",
    "print(f\"Hệ số tương quan r = {r:.4f}\")\n"
   ]
  },
  {
   "cell_type": "markdown",
   "id": "7066c644",
   "metadata": {},
   "source": [
    "Câu 2:"
   ]
  },
  {
   "cell_type": "code",
   "execution_count": 5,
   "id": "f4e3f12a",
   "metadata": {},
   "outputs": [],
   "source": [
    "df_long = pd.DataFrame({\n",
    "    'Day': ['Day 1']*3 + ['Day 2']*3 + ['Day 3']*3 + ['Day 4']*3,\n",
    "    'Model': ['A', 'B', 'C']*4,\n",
    "    'Score': [8, 9, 7, 7.5, 8.5, 7, 6, 7, 8, 7, 6, 5]\n",
    "})\n"
   ]
  },
  {
   "cell_type": "code",
   "execution_count": 6,
   "id": "6df020ad",
   "metadata": {},
   "outputs": [
    {
     "name": "stdout",
     "output_type": "stream",
     "text": [
      "ANOVA p-value: 0.5954382115847785\n"
     ]
    }
   ],
   "source": [
    "\n",
    "\n",
    "# Pivot lại để đưa về dạng bảng đếm\n",
    "contingency = pd.pivot_table(df_long, values='Score',\n",
    "                              index='Day', columns='Model',\n",
    "                              aggfunc='mean')\n",
    "\n",
    "# Vì là kiểm định độ phân phối điểm số → ANOVA hoặc Kruskal-Wallis phù hợp hơn:\n",
    "grouped = df_long.groupby('Model')['Score'].apply(list)\n",
    "stat, p = stats.f_oneway(*grouped)\n",
    "\n",
    "print(f\"ANOVA p-value: {p}\")\n"
   ]
  },
  {
   "cell_type": "markdown",
   "id": "52cdc3f8",
   "metadata": {},
   "source": [
    "Câu 3:"
   ]
  },
  {
   "cell_type": "code",
   "execution_count": 7,
   "id": "1dd4b2b9",
   "metadata": {},
   "outputs": [
    {
     "name": "stdout",
     "output_type": "stream",
     "text": [
      "   departure_time formatted_time\n",
      "0             830       08:30:00\n",
      "1            1445       14:45:00\n"
     ]
    }
   ],
   "source": [
    "\n",
    "# Ví dụ dữ liệu\n",
    "df = pd.DataFrame({'departure_time': [830, 1445]})\n",
    "\n",
    "# Chuyển đổi về dạng datetime\n",
    "df['formatted_time'] = pd.to_datetime(df['departure_time'].astype(str).str.zfill(4), format='%H%M').dt.time\n",
    "print(df)\n"
   ]
  },
  {
   "cell_type": "markdown",
   "id": "5dd1d6f4",
   "metadata": {},
   "source": [
    " Câu 4:"
   ]
  },
  {
   "cell_type": "code",
   "execution_count": 10,
   "id": "21bf54ac",
   "metadata": {},
   "outputs": [
    {
     "name": "stdout",
     "output_type": "stream",
     "text": [
      "   value  is_outlier\n",
      "0     10       False\n",
      "1     11       False\n",
      "2      9        True\n",
      "3     50        True\n",
      "4     10       False\n",
      "5     11       False\n",
      "6     12       False\n"
     ]
    }
   ],
   "source": [
    "\n",
    "\n",
    "# Giả sử bảng \"X\" có cột \"value\"\n",
    "df = pd.DataFrame({'value': [10, 11, 9, 50, 10, 11, 12]})\n",
    "median = df['value'].median()\n",
    "mad = np.median(np.abs(df['value'] - median))\n",
    "\n",
    "# Giá trị ngoại lệ nếu lệch > 1.5 * MAD\n",
    "threshold = 1.5 * mad\n",
    "df['is_outlier'] = np.abs(df['value'] - median) > threshold\n",
    "print(df)\n"
   ]
  },
  {
   "cell_type": "markdown",
   "id": "d696244a",
   "metadata": {},
   "source": [
    "Câu 5"
   ]
  },
  {
   "cell_type": "code",
   "execution_count": 11,
   "id": "ab2331bc",
   "metadata": {},
   "outputs": [
    {
     "name": "stdout",
     "output_type": "stream",
     "text": [
      "0 và 1 có thể là cùng một người.\n"
     ]
    }
   ],
   "source": [
    "df = pd.DataFrame({\n",
    "    'last_name': ['Nguyen', 'Nguyen', 'Tran'],\n",
    "    'weight': [60, 61, 55],\n",
    "    'height': [170, 170, 165]\n",
    "})\n",
    "\n",
    "# Kiểm tra từng cặp có trùng tên và chênh lệch cân <= 2kg\n",
    "from itertools import combinations\n",
    "\n",
    "def is_same_person(row1, row2):\n",
    "    return (row1['last_name'] == row2['last_name']) and (abs(row1['weight'] - row2['weight']) <= 2)\n",
    "\n",
    "for i, j in combinations(df.index, 2):\n",
    "    if is_same_person(df.loc[i], df.loc[j]):\n",
    "        print(f\"{i} và {j} có thể là cùng một người.\")"
   ]
  }
 ],
 "metadata": {
  "kernelspec": {
   "display_name": "Python 3",
   "language": "python",
   "name": "python3"
  },
  "language_info": {
   "codemirror_mode": {
    "name": "ipython",
    "version": 3
   },
   "file_extension": ".py",
   "mimetype": "text/x-python",
   "name": "python",
   "nbconvert_exporter": "python",
   "pygments_lexer": "ipython3",
   "version": "3.12.9"
  }
 },
 "nbformat": 4,
 "nbformat_minor": 5
}
